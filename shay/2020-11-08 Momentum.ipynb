{
 "cells": [
  {
   "cell_type": "code",
   "execution_count": 39,
   "metadata": {},
   "outputs": [],
   "source": [
    "import pandas as pd \n",
    "import numpy as np\n",
    "import matplotlib.pyplot as plt\n",
    "\n",
    "%matplotlib inline"
   ]
  },
  {
   "cell_type": "code",
   "execution_count": 92,
   "metadata": {},
   "outputs": [],
   "source": [
    "df = pd.read_csv('BTCUSDT-1d-data.csv', index_col='timestamp')\n",
    "df = df.query('timestamp < \"2019\"')"
   ]
  },
  {
   "cell_type": "code",
   "execution_count": 93,
   "metadata": {},
   "outputs": [],
   "source": [
    "df = df[['open']]"
   ]
  },
  {
   "cell_type": "code",
   "execution_count": 98,
   "metadata": {},
   "outputs": [],
   "source": [
    "df['open_tm1'] = df.open.shift(1)\n",
    "df['pct_change'] = (df.open - df.open_tm1)*100/df.open_tm1\n",
    "df['ret'] = np.log(df.open) - np.log(df.open_tm1)\n",
    "df.dropna(inplace=True)\n",
    "df['ret_tm1'] = df.ret.shift(1)\n",
    "df.dropna(inplace=True)"
   ]
  },
  {
   "cell_type": "code",
   "execution_count": 99,
   "metadata": {},
   "outputs": [
    {
     "data": {
      "text/plain": [
       "timestamp\n",
       "2017-08-23        NaN\n",
       "2017-08-24    4040.00\n",
       "2017-08-25    4147.00\n",
       "2017-08-26    4316.01\n",
       "2017-08-27    4280.71\n",
       "               ...   \n",
       "2018-12-27    3745.56\n",
       "2018-12-28    3777.74\n",
       "2018-12-29    3567.89\n",
       "2018-12-30    3839.00\n",
       "2018-12-31    3696.71\n",
       "Name: open, Length: 496, dtype: float64"
      ]
     },
     "execution_count": 99,
     "metadata": {},
     "output_type": "execute_result"
    }
   ],
   "source": [
    "df.open.shift(1)"
   ]
  },
  {
   "cell_type": "code",
   "execution_count": 100,
   "metadata": {},
   "outputs": [
    {
     "data": {
      "text/html": [
       "<div>\n",
       "<style scoped>\n",
       "    .dataframe tbody tr th:only-of-type {\n",
       "        vertical-align: middle;\n",
       "    }\n",
       "\n",
       "    .dataframe tbody tr th {\n",
       "        vertical-align: top;\n",
       "    }\n",
       "\n",
       "    .dataframe thead th {\n",
       "        text-align: right;\n",
       "    }\n",
       "</style>\n",
       "<table border=\"1\" class=\"dataframe\">\n",
       "  <thead>\n",
       "    <tr style=\"text-align: right;\">\n",
       "      <th></th>\n",
       "      <th>open</th>\n",
       "      <th>open_tm1</th>\n",
       "      <th>pct_change</th>\n",
       "      <th>ret</th>\n",
       "      <th>ret_tm1</th>\n",
       "    </tr>\n",
       "    <tr>\n",
       "      <th>timestamp</th>\n",
       "      <th></th>\n",
       "      <th></th>\n",
       "      <th></th>\n",
       "      <th></th>\n",
       "      <th></th>\n",
       "    </tr>\n",
       "  </thead>\n",
       "  <tbody>\n",
       "    <tr>\n",
       "      <th>2017-08-23</th>\n",
       "      <td>4040.00</td>\n",
       "      <td>4016.00</td>\n",
       "      <td>0.597610</td>\n",
       "      <td>0.005958</td>\n",
       "      <td>-0.013143</td>\n",
       "    </tr>\n",
       "    <tr>\n",
       "      <th>2017-08-24</th>\n",
       "      <td>4147.00</td>\n",
       "      <td>4040.00</td>\n",
       "      <td>2.648515</td>\n",
       "      <td>0.026140</td>\n",
       "      <td>0.005958</td>\n",
       "    </tr>\n",
       "    <tr>\n",
       "      <th>2017-08-25</th>\n",
       "      <td>4316.01</td>\n",
       "      <td>4147.00</td>\n",
       "      <td>4.075476</td>\n",
       "      <td>0.039946</td>\n",
       "      <td>0.026140</td>\n",
       "    </tr>\n",
       "    <tr>\n",
       "      <th>2017-08-26</th>\n",
       "      <td>4280.71</td>\n",
       "      <td>4316.01</td>\n",
       "      <td>-0.817885</td>\n",
       "      <td>-0.008212</td>\n",
       "      <td>0.039946</td>\n",
       "    </tr>\n",
       "    <tr>\n",
       "      <th>2017-08-27</th>\n",
       "      <td>4332.51</td>\n",
       "      <td>4280.71</td>\n",
       "      <td>1.210080</td>\n",
       "      <td>0.012028</td>\n",
       "      <td>-0.008212</td>\n",
       "    </tr>\n",
       "    <tr>\n",
       "      <th>...</th>\n",
       "      <td>...</td>\n",
       "      <td>...</td>\n",
       "      <td>...</td>\n",
       "      <td>...</td>\n",
       "      <td>...</td>\n",
       "    </tr>\n",
       "    <tr>\n",
       "      <th>2018-12-27</th>\n",
       "      <td>3777.74</td>\n",
       "      <td>3745.56</td>\n",
       "      <td>0.859151</td>\n",
       "      <td>0.008555</td>\n",
       "      <td>-0.068248</td>\n",
       "    </tr>\n",
       "    <tr>\n",
       "      <th>2018-12-28</th>\n",
       "      <td>3567.89</td>\n",
       "      <td>3777.74</td>\n",
       "      <td>-5.554908</td>\n",
       "      <td>-0.057152</td>\n",
       "      <td>0.008555</td>\n",
       "    </tr>\n",
       "    <tr>\n",
       "      <th>2018-12-29</th>\n",
       "      <td>3839.00</td>\n",
       "      <td>3567.89</td>\n",
       "      <td>7.598609</td>\n",
       "      <td>0.073238</td>\n",
       "      <td>-0.057152</td>\n",
       "    </tr>\n",
       "    <tr>\n",
       "      <th>2018-12-30</th>\n",
       "      <td>3696.71</td>\n",
       "      <td>3839.00</td>\n",
       "      <td>-3.706434</td>\n",
       "      <td>-0.037769</td>\n",
       "      <td>0.073238</td>\n",
       "    </tr>\n",
       "    <tr>\n",
       "      <th>2018-12-31</th>\n",
       "      <td>3803.12</td>\n",
       "      <td>3696.71</td>\n",
       "      <td>2.878505</td>\n",
       "      <td>0.028379</td>\n",
       "      <td>-0.037769</td>\n",
       "    </tr>\n",
       "  </tbody>\n",
       "</table>\n",
       "<p>496 rows × 5 columns</p>\n",
       "</div>"
      ],
      "text/plain": [
       "               open  open_tm1  pct_change       ret   ret_tm1\n",
       "timestamp                                                    \n",
       "2017-08-23  4040.00   4016.00    0.597610  0.005958 -0.013143\n",
       "2017-08-24  4147.00   4040.00    2.648515  0.026140  0.005958\n",
       "2017-08-25  4316.01   4147.00    4.075476  0.039946  0.026140\n",
       "2017-08-26  4280.71   4316.01   -0.817885 -0.008212  0.039946\n",
       "2017-08-27  4332.51   4280.71    1.210080  0.012028 -0.008212\n",
       "...             ...       ...         ...       ...       ...\n",
       "2018-12-27  3777.74   3745.56    0.859151  0.008555 -0.068248\n",
       "2018-12-28  3567.89   3777.74   -5.554908 -0.057152  0.008555\n",
       "2018-12-29  3839.00   3567.89    7.598609  0.073238 -0.057152\n",
       "2018-12-30  3696.71   3839.00   -3.706434 -0.037769  0.073238\n",
       "2018-12-31  3803.12   3696.71    2.878505  0.028379 -0.037769\n",
       "\n",
       "[496 rows x 5 columns]"
      ]
     },
     "execution_count": 100,
     "metadata": {},
     "output_type": "execute_result"
    }
   ],
   "source": [
    "df"
   ]
  },
  {
   "cell_type": "code",
   "execution_count": 46,
   "metadata": {},
   "outputs": [],
   "source": [
    "df['z_ret'] = (df.ret - df.ret.mean())/df.ret.std()"
   ]
  },
  {
   "cell_type": "code",
   "execution_count": 47,
   "metadata": {},
   "outputs": [
    {
     "data": {
      "text/plain": [
       "count    5.000000e+02\n",
       "mean    -2.131628e-17\n",
       "std      1.000000e+00\n",
       "min     -4.432069e+00\n",
       "25%     -4.116816e-01\n",
       "50%      3.854502e-02\n",
       "75%      4.243705e-01\n",
       "max      4.228168e+00\n",
       "Name: z_ret, dtype: float64"
      ]
     },
     "execution_count": 47,
     "metadata": {},
     "output_type": "execute_result"
    }
   ],
   "source": [
    "df.z_ret.describe()"
   ]
  },
  {
   "cell_type": "code",
   "execution_count": 44,
   "metadata": {},
   "outputs": [
    {
     "data": {
      "text/plain": [
       "2.5123211865846073"
      ]
     },
     "execution_count": 44,
     "metadata": {},
     "output_type": "execute_result"
    }
   ],
   "source": [
    "np.percentile(zscore, 99)"
   ]
  },
  {
   "cell_type": "code",
   "execution_count": 103,
   "metadata": {},
   "outputs": [
    {
     "data": {
      "text/plain": [
       "0.4778225806451613"
      ]
     },
     "execution_count": 103,
     "metadata": {},
     "output_type": "execute_result"
    }
   ],
   "source": [
    "(np.sign(df.ret) == np.sign(df.ret_tm1)).sum()/df.shape[0]"
   ]
  },
  {
   "cell_type": "code",
   "execution_count": 55,
   "metadata": {},
   "outputs": [
    {
     "data": {
      "text/plain": [
       "array([[1.00000000e+00, 7.49058534e-04],\n",
       "       [7.49058534e-04, 1.00000000e+00]])"
      ]
     },
     "execution_count": 55,
     "metadata": {},
     "output_type": "execute_result"
    }
   ],
   "source": [
    "np.corrcoef(df.ret, df.ret_tm1)"
   ]
  },
  {
   "cell_type": "code",
   "execution_count": 59,
   "metadata": {},
   "outputs": [],
   "source": [
    "df['s'] = np.sign(df.ret_tm1)"
   ]
  },
  {
   "cell_type": "code",
   "execution_count": 71,
   "metadata": {},
   "outputs": [],
   "source": [
    "df['s_outcome'] = (df.s==np.sign(df.ret)).astype(int)\n",
    "df.loc[df.s_outcome==0 ,'s_outcome'] = -1"
   ]
  },
  {
   "cell_type": "code",
   "execution_count": 72,
   "metadata": {},
   "outputs": [
    {
     "data": {
      "text/plain": [
       "-4800"
      ]
     },
     "execution_count": 72,
     "metadata": {},
     "output_type": "execute_result"
    }
   ],
   "source": [
    "np.sum(df.s_outcome*200)"
   ]
  },
  {
   "cell_type": "code",
   "execution_count": 73,
   "metadata": {},
   "outputs": [
    {
     "data": {
      "text/plain": [
       "238"
      ]
     },
     "execution_count": 73,
     "metadata": {},
     "output_type": "execute_result"
    }
   ],
   "source": [
    "(df.s_outcome == 1).sum()"
   ]
  },
  {
   "cell_type": "code",
   "execution_count": 76,
   "metadata": {},
   "outputs": [
    {
     "data": {
      "text/plain": [
       "-24"
      ]
     },
     "execution_count": 76,
     "metadata": {},
     "output_type": "execute_result"
    }
   ],
   "source": [
    "df.s_outcome.sum()"
   ]
  },
  {
   "cell_type": "code",
   "execution_count": 77,
   "metadata": {},
   "outputs": [
    {
     "data": {
      "text/plain": [
       "(500, 7)"
      ]
     },
     "execution_count": 77,
     "metadata": {},
     "output_type": "execute_result"
    }
   ],
   "source": [
    "df.shape"
   ]
  },
  {
   "cell_type": "code",
   "execution_count": null,
   "metadata": {},
   "outputs": [],
   "source": []
  }
 ],
 "metadata": {
  "kernelspec": {
   "display_name": "py37",
   "language": "python",
   "name": "py37"
  },
  "language_info": {
   "codemirror_mode": {
    "name": "ipython",
    "version": 3
   },
   "file_extension": ".py",
   "mimetype": "text/x-python",
   "name": "python",
   "nbconvert_exporter": "python",
   "pygments_lexer": "ipython3",
   "version": "3.7.9"
  }
 },
 "nbformat": 4,
 "nbformat_minor": 4
}
